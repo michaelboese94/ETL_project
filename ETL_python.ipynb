{
 "cells": [
  {
   "cell_type": "code",
   "execution_count": 1,
   "metadata": {},
   "outputs": [],
   "source": [
    "#IMPORTING THE DEPENDENCIES \n",
    "import pandas as pd \n",
    "import numpy as np\n",
    "import matplotlib.pyplot as plt\n",
    "from sqlalchemy import create_engine\n",
    "import sqlalchemy\n",
    "from sqlalchemy.ext.automap import automap_base\n",
    "from sqlalchemy.orm import Session\n",
    "from sqlalchemy import func, inspect\n",
    "from sqlalchemy.orm import join"
   ]
  },
  {
   "cell_type": "code",
   "execution_count": 20,
   "metadata": {
    "scrolled": true
   },
   "outputs": [],
   "source": [
    "# ATTACHING THE DATA SETS\n",
    "artist_file = 'Resources/Artist_2.csv'\n",
    "album_file = 'Resources/albumlist.csv'\n",
    "artist_full_file = 'Resources/artist_full.csv'\n",
    "\n",
    "\n",
    "artist_df = pd.read_csv(artist_file)\n",
    "album_df = pd.read_csv(album_file)\n",
    "artist_full_df = pd.read_csv(artist_full_file)"
   ]
  },
  {
   "cell_type": "code",
   "execution_count": 19,
   "metadata": {},
   "outputs": [],
   "source": [
    "#! pip install psycopg2"
   ]
  },
  {
   "cell_type": "markdown",
   "metadata": {},
   "source": [
    "# Artist W/ the Most Top Albums"
   ]
  },
  {
   "cell_type": "code",
   "execution_count": 21,
   "metadata": {},
   "outputs": [
    {
     "data": {
      "text/html": [
       "<div>\n",
       "<style scoped>\n",
       "    .dataframe tbody tr th:only-of-type {\n",
       "        vertical-align: middle;\n",
       "    }\n",
       "\n",
       "    .dataframe tbody tr th {\n",
       "        vertical-align: top;\n",
       "    }\n",
       "\n",
       "    .dataframe thead th {\n",
       "        text-align: right;\n",
       "    }\n",
       "</style>\n",
       "<table border=\"1\" class=\"dataframe\">\n",
       "  <thead>\n",
       "    <tr style=\"text-align: right;\">\n",
       "      <th></th>\n",
       "      <th>Number of Top Albums</th>\n",
       "    </tr>\n",
       "    <tr>\n",
       "      <th>Artist</th>\n",
       "      <th></th>\n",
       "    </tr>\n",
       "  </thead>\n",
       "  <tbody>\n",
       "    <tr>\n",
       "      <th>[The Beatles]</th>\n",
       "      <td>10</td>\n",
       "    </tr>\n",
       "    <tr>\n",
       "      <th>[Bob Dylan]</th>\n",
       "      <td>10</td>\n",
       "    </tr>\n",
       "    <tr>\n",
       "      <th>[The Rolling Stones]</th>\n",
       "      <td>10</td>\n",
       "    </tr>\n",
       "    <tr>\n",
       "      <th>[Bruce Springsteen]</th>\n",
       "      <td>8</td>\n",
       "    </tr>\n",
       "    <tr>\n",
       "      <th>[The Who]</th>\n",
       "      <td>7</td>\n",
       "    </tr>\n",
       "    <tr>\n",
       "      <th>[Radiohead]</th>\n",
       "      <td>5</td>\n",
       "    </tr>\n",
       "    <tr>\n",
       "      <th>[U2]</th>\n",
       "      <td>5</td>\n",
       "    </tr>\n",
       "    <tr>\n",
       "      <th>[Led Zeppelin]</th>\n",
       "      <td>5</td>\n",
       "    </tr>\n",
       "    <tr>\n",
       "      <th>[Elton John]</th>\n",
       "      <td>5</td>\n",
       "    </tr>\n",
       "    <tr>\n",
       "      <th>[David Bowie]</th>\n",
       "      <td>5</td>\n",
       "    </tr>\n",
       "  </tbody>\n",
       "</table>\n",
       "</div>"
      ],
      "text/plain": [
       "                      Number of Top Albums\n",
       "Artist                                    \n",
       "[The Beatles]                           10\n",
       "[Bob Dylan]                             10\n",
       "[The Rolling Stones]                    10\n",
       "[Bruce Springsteen]                      8\n",
       "[The Who]                                7\n",
       "[Radiohead]                              5\n",
       "[U2]                                     5\n",
       "[Led Zeppelin]                           5\n",
       "[Elton John]                             5\n",
       "[David Bowie]                            5"
      ]
     },
     "execution_count": 21,
     "metadata": {},
     "output_type": "execute_result"
    }
   ],
   "source": [
    "#ARTISTS W/ THE MOST TOP ALBUMS\n",
    "top_artist_df = artist_df.groupby(artist_df['Artist'])\n",
    "\n",
    "band_name = top_artist_df['Artist'].unique()\n",
    "\n",
    "album_count = top_artist_df['Artist'].count()\n",
    "\n",
    "top_dict = {'Artist': band_name,\n",
    "           'Number of Top Albums' : album_count}\n",
    "top_df = pd.DataFrame.from_dict(top_dict)\n",
    "top_df = top_df.set_index('Artist')\n",
    "top_df = top_df.sort_values('Number of Top Albums', ascending=False)\n",
    "\n",
    "top_df.head(10)"
   ]
  },
  {
   "cell_type": "code",
   "execution_count": 5,
   "metadata": {},
   "outputs": [],
   "source": [
    "import psycopg2\n",
    "#CONNECTING TO THE DATA \n",
    "connection_string = \"postgres@localhost/music_db\"\n",
    "engine = create_engine(f'postgresql+psycopg2://{connection_string}')"
   ]
  },
  {
   "cell_type": "code",
   "execution_count": 6,
   "metadata": {},
   "outputs": [
    {
     "data": {
      "text/plain": [
       "['genre', 'subgenre', 'year', 'artist', 'album', 'artist_full']"
      ]
     },
     "execution_count": 6,
     "metadata": {},
     "output_type": "execute_result"
    }
   ],
   "source": [
    "engine.table_names()"
   ]
  },
  {
   "cell_type": "code",
   "execution_count": 7,
   "metadata": {},
   "outputs": [
    {
     "data": {
      "text/html": [
       "<div>\n",
       "<style scoped>\n",
       "    .dataframe tbody tr th:only-of-type {\n",
       "        vertical-align: middle;\n",
       "    }\n",
       "\n",
       "    .dataframe tbody tr th {\n",
       "        vertical-align: top;\n",
       "    }\n",
       "\n",
       "    .dataframe thead th {\n",
       "        text-align: right;\n",
       "    }\n",
       "</style>\n",
       "<table border=\"1\" class=\"dataframe\">\n",
       "  <thead>\n",
       "    <tr style=\"text-align: right;\">\n",
       "      <th></th>\n",
       "      <th>artist</th>\n",
       "      <th>album</th>\n",
       "      <th>genre</th>\n",
       "      <th>year</th>\n",
       "    </tr>\n",
       "    <tr>\n",
       "      <th>id</th>\n",
       "      <th></th>\n",
       "      <th></th>\n",
       "      <th></th>\n",
       "      <th></th>\n",
       "    </tr>\n",
       "  </thead>\n",
       "  <tbody>\n",
       "    <tr>\n",
       "      <th>1</th>\n",
       "      <td>The Beatles</td>\n",
       "      <td>Sgt. Pepper's Lonely Hearts Club Band</td>\n",
       "      <td>Rock</td>\n",
       "      <td>1967</td>\n",
       "    </tr>\n",
       "    <tr>\n",
       "      <th>2</th>\n",
       "      <td>The Beach Boys</td>\n",
       "      <td>Pet Sounds</td>\n",
       "      <td>Rock</td>\n",
       "      <td>1966</td>\n",
       "    </tr>\n",
       "    <tr>\n",
       "      <th>3</th>\n",
       "      <td>The Beatles</td>\n",
       "      <td>Revolver</td>\n",
       "      <td>Rock</td>\n",
       "      <td>1966</td>\n",
       "    </tr>\n",
       "    <tr>\n",
       "      <th>4</th>\n",
       "      <td>Bob Dylan</td>\n",
       "      <td>Highway 61 Revisited</td>\n",
       "      <td>Rock</td>\n",
       "      <td>1965</td>\n",
       "    </tr>\n",
       "    <tr>\n",
       "      <th>5</th>\n",
       "      <td>The Beatles</td>\n",
       "      <td>Rubber Soul</td>\n",
       "      <td>Rock, Pop</td>\n",
       "      <td>1965</td>\n",
       "    </tr>\n",
       "  </tbody>\n",
       "</table>\n",
       "</div>"
      ],
      "text/plain": [
       "            artist                                  album      genre  year\n",
       "id                                                                        \n",
       "1      The Beatles  Sgt. Pepper's Lonely Hearts Club Band       Rock  1967\n",
       "2   The Beach Boys                             Pet Sounds       Rock  1966\n",
       "3      The Beatles                               Revolver       Rock  1966\n",
       "4        Bob Dylan                   Highway 61 Revisited       Rock  1965\n",
       "5      The Beatles                            Rubber Soul  Rock, Pop  1965"
      ]
     },
     "execution_count": 7,
     "metadata": {},
     "output_type": "execute_result"
    }
   ],
   "source": [
    "Base = automap_base()\n",
    "Base.prepare(engine, reflect = True)\n",
    "Base.classes.keys()\n",
    "session = Session(bind=engine)\n",
    "\n",
    "# Creating the artist df\n",
    "artist = Base.classes.artist\n",
    "artist_query = session.query(artist.id, artist.artist, artist.genre)\n",
    "artist_df2 = pd.DataFrame(artist_query, columns = ['id', 'artist', 'genre'])\n",
    "artist_df2.set_index('id', inplace= True)\n",
    "artist_df2.head()\n",
    "\n",
    "#Creating the album df\n",
    "album = Base.classes.album\n",
    "album_query = session.query(album.id, album.album, album.year)\n",
    "album_df2 = pd.DataFrame(album_query, columns = ['id', 'album', 'year'])\n",
    "album_df2.set_index('id', inplace= True)\n",
    "album_df2.head()\n",
    "\n",
    "full = Base.classes.artist_full\n",
    "full_query = session.query(full.id, full.artist, full.album, full.genre, full.year) \n",
    "full_df2 = pd.DataFrame(full_query, columns = ['id', 'artist', 'album', 'genre', 'year'])\n",
    "full_df2.set_index('id', inplace= True)\n",
    "full_df2.head()\n",
    "\n",
    "\n"
   ]
  },
  {
   "cell_type": "markdown",
   "metadata": {},
   "source": [
    "# Creating the Rock, Hip Hop and Country Data Frames"
   ]
  },
  {
   "cell_type": "code",
   "execution_count": 16,
   "metadata": {},
   "outputs": [
    {
     "data": {
      "text/html": [
       "<div>\n",
       "<style scoped>\n",
       "    .dataframe tbody tr th:only-of-type {\n",
       "        vertical-align: middle;\n",
       "    }\n",
       "\n",
       "    .dataframe tbody tr th {\n",
       "        vertical-align: top;\n",
       "    }\n",
       "\n",
       "    .dataframe thead th {\n",
       "        text-align: right;\n",
       "    }\n",
       "</style>\n",
       "<table border=\"1\" class=\"dataframe\">\n",
       "  <thead>\n",
       "    <tr style=\"text-align: right;\">\n",
       "      <th></th>\n",
       "      <th>artist</th>\n",
       "      <th>album</th>\n",
       "      <th>genre</th>\n",
       "      <th>year</th>\n",
       "    </tr>\n",
       "    <tr>\n",
       "      <th>id</th>\n",
       "      <th></th>\n",
       "      <th></th>\n",
       "      <th></th>\n",
       "      <th></th>\n",
       "    </tr>\n",
       "  </thead>\n",
       "  <tbody>\n",
       "    <tr>\n",
       "      <th>1</th>\n",
       "      <td>The Beatles</td>\n",
       "      <td>Sgt. Pepper's Lonely Hearts Club Band</td>\n",
       "      <td>Rock</td>\n",
       "      <td>1967</td>\n",
       "    </tr>\n",
       "    <tr>\n",
       "      <th>2</th>\n",
       "      <td>The Beach Boys</td>\n",
       "      <td>Pet Sounds</td>\n",
       "      <td>Rock</td>\n",
       "      <td>1966</td>\n",
       "    </tr>\n",
       "    <tr>\n",
       "      <th>3</th>\n",
       "      <td>The Beatles</td>\n",
       "      <td>Revolver</td>\n",
       "      <td>Rock</td>\n",
       "      <td>1966</td>\n",
       "    </tr>\n",
       "    <tr>\n",
       "      <th>4</th>\n",
       "      <td>Bob Dylan</td>\n",
       "      <td>Highway 61 Revisited</td>\n",
       "      <td>Rock</td>\n",
       "      <td>1965</td>\n",
       "    </tr>\n",
       "    <tr>\n",
       "      <th>5</th>\n",
       "      <td>The Beatles</td>\n",
       "      <td>Rubber Soul</td>\n",
       "      <td>Rock, Pop</td>\n",
       "      <td>1965</td>\n",
       "    </tr>\n",
       "  </tbody>\n",
       "</table>\n",
       "</div>"
      ],
      "text/plain": [
       "            artist                                  album      genre  year\n",
       "id                                                                        \n",
       "1      The Beatles  Sgt. Pepper's Lonely Hearts Club Band       Rock  1967\n",
       "2   The Beach Boys                             Pet Sounds       Rock  1966\n",
       "3      The Beatles                               Revolver       Rock  1966\n",
       "4        Bob Dylan                   Highway 61 Revisited       Rock  1965\n",
       "5      The Beatles                            Rubber Soul  Rock, Pop  1965"
      ]
     },
     "execution_count": 16,
     "metadata": {},
     "output_type": "execute_result"
    }
   ],
   "source": [
    "#Rock DF Query\n",
    "rock_query = session.query(full.id, full.artist, full.album, full.genre, full.year).filter(full.genre.match('%Rock%'))\n",
    "rock_query_df = pd.DataFrame(rock_query, columns = ['id', 'artist', 'album', 'genre', 'year'])\n",
    "rock_query_df.set_index('id', inplace = True)\n",
    "rock_query_df.head()"
   ]
  },
  {
   "cell_type": "code",
   "execution_count": 13,
   "metadata": {},
   "outputs": [
    {
     "data": {
      "text/html": [
       "<div>\n",
       "<style scoped>\n",
       "    .dataframe tbody tr th:only-of-type {\n",
       "        vertical-align: middle;\n",
       "    }\n",
       "\n",
       "    .dataframe tbody tr th {\n",
       "        vertical-align: top;\n",
       "    }\n",
       "\n",
       "    .dataframe thead th {\n",
       "        text-align: right;\n",
       "    }\n",
       "</style>\n",
       "<table border=\"1\" class=\"dataframe\">\n",
       "  <thead>\n",
       "    <tr style=\"text-align: right;\">\n",
       "      <th></th>\n",
       "      <th>artist</th>\n",
       "      <th>album</th>\n",
       "      <th>genre</th>\n",
       "      <th>year</th>\n",
       "    </tr>\n",
       "    <tr>\n",
       "      <th>id</th>\n",
       "      <th></th>\n",
       "      <th></th>\n",
       "      <th></th>\n",
       "      <th></th>\n",
       "    </tr>\n",
       "  </thead>\n",
       "  <tbody>\n",
       "    <tr>\n",
       "      <th>48</th>\n",
       "      <td>Public Enemy</td>\n",
       "      <td>It Takes a Nation of Millions to Hold Us Back</td>\n",
       "      <td>Hip Hop</td>\n",
       "      <td>1988</td>\n",
       "    </tr>\n",
       "    <tr>\n",
       "      <th>118</th>\n",
       "      <td>Kanye West</td>\n",
       "      <td>Late Registration</td>\n",
       "      <td>Hip Hop</td>\n",
       "      <td>2005</td>\n",
       "    </tr>\n",
       "    <tr>\n",
       "      <th>123</th>\n",
       "      <td>Run D.M.C.</td>\n",
       "      <td>Raising Hell</td>\n",
       "      <td>Hip Hop</td>\n",
       "      <td>1986</td>\n",
       "    </tr>\n",
       "    <tr>\n",
       "      <th>134</th>\n",
       "      <td>The Notorious B.I.G.</td>\n",
       "      <td>Ready to Die</td>\n",
       "      <td>Hip Hop</td>\n",
       "      <td>1994</td>\n",
       "    </tr>\n",
       "    <tr>\n",
       "      <th>138</th>\n",
       "      <td>Dr. Dre</td>\n",
       "      <td>The Chronic</td>\n",
       "      <td>Hip Hop</td>\n",
       "      <td>1992</td>\n",
       "    </tr>\n",
       "  </tbody>\n",
       "</table>\n",
       "</div>"
      ],
      "text/plain": [
       "                   artist                                          album  \\\n",
       "id                                                                         \n",
       "48           Public Enemy  It Takes a Nation of Millions to Hold Us Back   \n",
       "118            Kanye West                              Late Registration   \n",
       "123            Run D.M.C.                                   Raising Hell   \n",
       "134  The Notorious B.I.G.                                   Ready to Die   \n",
       "138               Dr. Dre                                    The Chronic   \n",
       "\n",
       "       genre  year  \n",
       "id                  \n",
       "48   Hip Hop  1988  \n",
       "118  Hip Hop  2005  \n",
       "123  Hip Hop  1986  \n",
       "134  Hip Hop  1994  \n",
       "138  Hip Hop  1992  "
      ]
     },
     "execution_count": 13,
     "metadata": {},
     "output_type": "execute_result"
    }
   ],
   "source": [
    "#Rap DF Query\n",
    "rap_query = session.query(full.id, full.artist, full.album, full.genre, full.year).filter(full.genre.match('%Hip%'))\n",
    "rap_query_df = pd.DataFrame(rap_query, columns = ['id', 'artist', 'album', 'genre', 'year'])\n",
    "rap_query_df.set_index('id', inplace = True)\n",
    "rap_query_df.head()"
   ]
  },
  {
   "cell_type": "code",
   "execution_count": 22,
   "metadata": {},
   "outputs": [
    {
     "data": {
      "text/html": [
       "<div>\n",
       "<style scoped>\n",
       "    .dataframe tbody tr th:only-of-type {\n",
       "        vertical-align: middle;\n",
       "    }\n",
       "\n",
       "    .dataframe tbody tr th {\n",
       "        vertical-align: top;\n",
       "    }\n",
       "\n",
       "    .dataframe thead th {\n",
       "        text-align: right;\n",
       "    }\n",
       "</style>\n",
       "<table border=\"1\" class=\"dataframe\">\n",
       "  <thead>\n",
       "    <tr style=\"text-align: right;\">\n",
       "      <th></th>\n",
       "      <th>artist</th>\n",
       "      <th>album</th>\n",
       "      <th>genre</th>\n",
       "      <th>year</th>\n",
       "    </tr>\n",
       "    <tr>\n",
       "      <th>id</th>\n",
       "      <th></th>\n",
       "      <th></th>\n",
       "      <th></th>\n",
       "      <th></th>\n",
       "    </tr>\n",
       "  </thead>\n",
       "  <tbody>\n",
       "    <tr>\n",
       "      <th>19</th>\n",
       "      <td>Van Morrison</td>\n",
       "      <td>Astral Weeks</td>\n",
       "      <td>Jazz, Rock, Blues, Folk, World, &amp; Country</td>\n",
       "      <td>1968</td>\n",
       "    </tr>\n",
       "    <tr>\n",
       "      <th>31</th>\n",
       "      <td>Bob Dylan</td>\n",
       "      <td>Bringing It All Back Home</td>\n",
       "      <td>Rock, Folk, World, &amp; Country</td>\n",
       "      <td>1965</td>\n",
       "    </tr>\n",
       "    <tr>\n",
       "      <th>38</th>\n",
       "      <td>Muddy Waters</td>\n",
       "      <td>The Anthology</td>\n",
       "      <td>Folk, World, &amp; Country</td>\n",
       "      <td>2001</td>\n",
       "    </tr>\n",
       "    <tr>\n",
       "      <th>66</th>\n",
       "      <td>Van Morrison</td>\n",
       "      <td>Moondance</td>\n",
       "      <td>Jazz, Rock, Funk / Soul, Folk, World, &amp; Country</td>\n",
       "      <td>1970</td>\n",
       "    </tr>\n",
       "    <tr>\n",
       "      <th>71</th>\n",
       "      <td>Paul Simon</td>\n",
       "      <td>Graceland</td>\n",
       "      <td>Jazz, Rock, Funk / Soul, Pop, Folk, World, &amp; C...</td>\n",
       "      <td>1986</td>\n",
       "    </tr>\n",
       "    <tr>\n",
       "      <th>88</th>\n",
       "      <td>Johnny Cash</td>\n",
       "      <td>At Folsom Prison</td>\n",
       "      <td>Folk, World, &amp; Country</td>\n",
       "      <td>1968</td>\n",
       "    </tr>\n",
       "    <tr>\n",
       "      <th>94</th>\n",
       "      <td>Hank Williams</td>\n",
       "      <td>40 Greatest Hits</td>\n",
       "      <td>Folk, World, &amp; Country</td>\n",
       "      <td>1984</td>\n",
       "    </tr>\n",
       "    <tr>\n",
       "      <th>97</th>\n",
       "      <td>Bob Dylan</td>\n",
       "      <td>The Freewheelin' Bob Dylan</td>\n",
       "      <td>Folk, World, &amp; Country</td>\n",
       "      <td>1963</td>\n",
       "    </tr>\n",
       "    <tr>\n",
       "      <th>105</th>\n",
       "      <td>Ray Charles</td>\n",
       "      <td>Modern Sounds in Country and Western Music</td>\n",
       "      <td>Funk / Soul, Folk, World, &amp; Country</td>\n",
       "      <td>1962</td>\n",
       "    </tr>\n",
       "    <tr>\n",
       "      <th>122</th>\n",
       "      <td>Various Artists</td>\n",
       "      <td>The Harder They Come</td>\n",
       "      <td>Reggae,ÊPop,ÊFolk, World, &amp; Country,ÊStage &amp; S...</td>\n",
       "      <td>1972</td>\n",
       "    </tr>\n",
       "  </tbody>\n",
       "</table>\n",
       "</div>"
      ],
      "text/plain": [
       "              artist                                       album  \\\n",
       "id                                                                 \n",
       "19      Van Morrison                                Astral Weeks   \n",
       "31         Bob Dylan                   Bringing It All Back Home   \n",
       "38      Muddy Waters                               The Anthology   \n",
       "66      Van Morrison                                   Moondance   \n",
       "71        Paul Simon                                   Graceland   \n",
       "88       Johnny Cash                            At Folsom Prison   \n",
       "94     Hank Williams                            40 Greatest Hits   \n",
       "97         Bob Dylan                  The Freewheelin' Bob Dylan   \n",
       "105      Ray Charles  Modern Sounds in Country and Western Music   \n",
       "122  Various Artists                        The Harder They Come   \n",
       "\n",
       "                                                 genre  year  \n",
       "id                                                            \n",
       "19           Jazz, Rock, Blues, Folk, World, & Country  1968  \n",
       "31                        Rock, Folk, World, & Country  1965  \n",
       "38                              Folk, World, & Country  2001  \n",
       "66     Jazz, Rock, Funk / Soul, Folk, World, & Country  1970  \n",
       "71   Jazz, Rock, Funk / Soul, Pop, Folk, World, & C...  1986  \n",
       "88                              Folk, World, & Country  1968  \n",
       "94                              Folk, World, & Country  1984  \n",
       "97                              Folk, World, & Country  1963  \n",
       "105                Funk / Soul, Folk, World, & Country  1962  \n",
       "122  Reggae,ÊPop,ÊFolk, World, & Country,ÊStage & S...  1972  "
      ]
     },
     "execution_count": 22,
     "metadata": {},
     "output_type": "execute_result"
    }
   ],
   "source": [
    "#Country DF Query\n",
    "country_query = session.query(full.id, full.artist, full.album, full.genre, full.year).filter(full.genre.match('%Country%')).all()\n",
    "country_query_df = pd.DataFrame(country_query, columns = ['id', 'artist', 'album', 'genre', 'year'])\n",
    "country_query_df.set_index('id', inplace = True)\n",
    "country_query_df.head(10)"
   ]
  },
  {
   "cell_type": "markdown",
   "metadata": {},
   "source": [
    "# Graphs to Analyze Trends"
   ]
  },
  {
   "cell_type": "code",
   "execution_count": 50,
   "metadata": {},
   "outputs": [
    {
     "data": {
      "text/plain": [
       "<matplotlib.axes._subplots.AxesSubplot at 0x204ab2a0080>"
      ]
     },
     "execution_count": 50,
     "metadata": {},
     "output_type": "execute_result"
    },
    {
     "data": {
      "image/png": "[encoded data removed]",
      "text/plain": [
       "<Figure size 720x360 with 1 Axes>"
      ]
     },
     "metadata": {},
     "output_type": "display_data"
    }
   ],
   "source": [
    "# The Style\n",
    "plt.style.use('fivethirtyeight')\n",
    "\n",
    "# The Rock Plot\n",
    "rock_plot = rock_query_df.groupby('year')['album'].count()\n",
    "rock_plot_df = pd.DataFrame(rock_plot)\n",
    "\n",
    "rock_plot_df.head(10)\n",
    "\n",
    "fig, ax = plt.subplots(figsize = (10, 5));\n",
    "rock_plot_df.plot(ax = ax, x_compat = True)"
   ]
  },
  {
   "cell_type": "code",
   "execution_count": 52,
   "metadata": {},
   "outputs": [
    {
     "data": {
      "text/plain": [
       "<matplotlib.axes._subplots.AxesSubplot at 0x204acb6dd30>"
      ]
     },
     "execution_count": 52,
     "metadata": {},
     "output_type": "execute_result"
    },
    {
     "data": {
      "image/png": "[encoded data removed]",
      "text/plain": [
       "<Figure size 720x360 with 1 Axes>"
      ]
     },
     "metadata": {},
     "output_type": "display_data"
    }
   ],
   "source": [
    "# Creating the Hip Hop Graph\n",
    "rap_plot = rap_query_df.groupby('year')['album'].count()\n",
    "rap_plot_df = pd.DataFrame(rap_plot)\n",
    "fig, ax = plt.subplots(figsize = (10, 5));\n",
    "rap_plot_df.plot(ax = ax, x_compat = True)"
   ]
  },
  {
   "cell_type": "code",
   "execution_count": 53,
   "metadata": {},
   "outputs": [
    {
     "data": {
      "text/plain": [
       "<matplotlib.axes._subplots.AxesSubplot at 0x204acce8c50>"
      ]
     },
     "execution_count": 53,
     "metadata": {},
     "output_type": "execute_result"
    },
    {
     "data": {
      "image/png": "[encoded data removed]",
      "text/plain": [
       "<Figure size 720x360 with 1 Axes>"
      ]
     },
     "metadata": {},
     "output_type": "display_data"
    }
   ],
   "source": [
    "# Creating the Country file \n",
    "country_plot = country_query_df.groupby('year')['album'].count()\n",
    "country_plot_df = pd.DataFrame(country_plot)\n",
    "fig, ax = plt.subplots(figsize = (10, 5));\n",
    "country_plot_df.plot(ax = ax, x_compat = True)\n"
   ]
  }
 ],
 "metadata": {
  "kernelspec": {
   "display_name": "Python 3",
   "language": "python",
   "name": "python3"
  },
  "language_info": {
   "codemirror_mode": {
    "name": "ipython",
    "version": 3
   },
   "file_extension": ".py",
   "mimetype": "text/x-python",
   "name": "python",
   "nbconvert_exporter": "python",
   "pygments_lexer": "ipython3",
   "version": "3.7.3"
  }
 },
 "nbformat": 4,
 "nbformat_minor": 2
}
